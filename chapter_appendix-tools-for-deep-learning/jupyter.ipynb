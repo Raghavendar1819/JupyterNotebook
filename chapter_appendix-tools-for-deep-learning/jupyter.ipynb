{
  "cells": [
    {
      "cell_type": "markdown",
      "id": "31d9a4c9",
      "metadata": {
        "origin_pos": 0,
        "id": "31d9a4c9"
      },
      "source": [
        "# Using Jupyter Notebooks\n",
        ":label:`sec_jupyter`\n",
        "\n",
        "\n",
        "This section describes how to edit and run the code\n",
        "in each section of this book\n",
        "using the Jupyter Notebook. Make sure you have\n",
        "installed Jupyter and downloaded the\n",
        "code as described in\n",
        ":ref:`chap_installation`.\n",
        "If you want to know more about Jupyter see the excellent tutorial in\n",
        "their [documentation](https://jupyter.readthedocs.io/en/latest/).\n",
        "\n",
        "\n",
        "## Editing and Running the Code Locally\n",
        "\n",
        "Suppose that the local path of the book's code is `xx/yy/d2l-en/`. Use the shell to change the directory to this path (`cd xx/yy/d2l-en`) and run the command `jupyter notebook`. If your browser does not do this automatically, open http://localhost:8888 and you will see the interface of Jupyter and all the folders containing the code of the book, as shown in :numref:`fig_jupyter00`.\n",
        "\n",
        "![The folders containing the code of this book.](https://github.com/d2l-ai/d2l-en-colab/blob/master/img/jupyter00.png?raw=1)\n",
        ":width:`600px`\n",
        ":label:`fig_jupyter00`\n",
        "\n",
        "\n",
        "You can access the notebook files by clicking on the folder displayed on the webpage.\n",
        "They usually have the suffix \".ipynb\".\n",
        "For the sake of brevity, we create a temporary \"test.ipynb\" file.\n",
        "The content displayed after you click it is\n",
        "shown in :numref:`fig_jupyter01`.\n",
        "This notebook includes a markdown cell and a code cell. The content in the markdown cell includes \"This Is a Title\" and \"This is text.\".\n",
        "The code cell contains two lines of Python code.\n",
        "\n",
        "![Markdown and code cells in the \"text.ipynb\" file.](https://github.com/d2l-ai/d2l-en-colab/blob/master/img/jupyter01.png?raw=1)\n",
        ":width:`600px`\n",
        ":label:`fig_jupyter01`\n",
        "\n",
        "\n",
        "Double click on the markdown cell to enter edit mode.\n",
        "Add a new text string \"Hello world.\" at the end of the cell, as shown in :numref:`fig_jupyter02`.\n",
        "\n",
        "![Edit the markdown cell.](https://github.com/d2l-ai/d2l-en-colab/blob/master/img/jupyter02.png?raw=1)\n",
        ":width:`600px`\n",
        ":label:`fig_jupyter02`\n",
        "\n",
        "\n",
        "As demonstrated in :numref:`fig_jupyter03`,\n",
        "click \"Cell\" $\\rightarrow$ \"Run Cells\" in the menu bar to run the edited cell.\n",
        "\n",
        "![Run the cell.](https://github.com/d2l-ai/d2l-en-colab/blob/master/img/jupyter03.png?raw=1)\n",
        ":width:`600px`\n",
        ":label:`fig_jupyter03`\n",
        "\n",
        "After running, the markdown cell is shown in :numref:`fig_jupyter04`.\n",
        "\n",
        "![The markdown cell after running.](https://github.com/d2l-ai/d2l-en-colab/blob/master/img/jupyter04.png?raw=1)\n",
        ":width:`600px`\n",
        ":label:`fig_jupyter04`\n",
        "\n",
        "\n",
        "Next, click on the code cell. Multiply the elements by 2 after the last line of code, as shown in :numref:`fig_jupyter05`.\n",
        "\n",
        "![Edit the code cell.](https://github.com/d2l-ai/d2l-en-colab/blob/master/img/jupyter05.png?raw=1)\n",
        ":width:`600px`\n",
        ":label:`fig_jupyter05`\n",
        "\n",
        "\n",
        "You can also run the cell with a shortcut (\"Ctrl + Enter\" by default) and obtain the output result from :numref:`fig_jupyter06`.\n",
        "\n",
        "![Run the code cell to obtain the output.](https://github.com/d2l-ai/d2l-en-colab/blob/master/img/jupyter06.png?raw=1)\n",
        ":width:`600px`\n",
        ":label:`fig_jupyter06`\n",
        "\n",
        "\n",
        "When a notebook contains more cells, we can click \"Kernel\" $\\rightarrow$ \"Restart & Run All\" in the menu bar to run all the cells in the entire notebook. By clicking \"Help\" $\\rightarrow$ \"Edit Keyboard Shortcuts\" in the menu bar, you can edit the shortcuts according to your preferences.\n",
        "\n",
        "## Advanced Options\n",
        "\n",
        "Beyond local editing two things are quite important: editing the notebooks in the markdown format and running Jupyter remotely.\n",
        "The latter matters when we want to run the code on a faster server.\n",
        "The former matters since Jupyter's native ipynb format stores a lot of auxiliary data that is\n",
        "irrelevant to the content,\n",
        "mostly related to how and where the code is run.\n",
        "This is confusing for Git, making\n",
        "reviewing contributions very difficult.\n",
        "Fortunately there is an alternative---native editing in the markdown format.\n",
        "\n",
        "### Markdown Files in Jupyter\n",
        "\n",
        "If you wish to contribute to the content of this book, you need to modify the\n",
        "source file (md file, not ipynb file) on GitHub.\n",
        "Using the notedown plugin we\n",
        "can modify notebooks in the md format directly in Jupyter.\n",
        "\n",
        "\n",
        "First, install the notedown plugin, run the Jupyter Notebook, and load the plugin:\n",
        "\n",
        "```\n",
        "pip install d2l-notedown  # You may need to uninstall the original notedown.\n",
        "jupyter notebook --NotebookApp.contents_manager_class='notedown.NotedownContentsManager'\n",
        "```\n",
        "\n",
        "You may also turn on the notedown plugin by default whenever you run the Jupyter Notebook.\n",
        "First, generate a Jupyter Notebook configuration file (if it has already been generated, you can skip this step).\n",
        "\n",
        "```\n",
        "jupyter notebook --generate-config\n",
        "```\n",
        "\n",
        "Then, add the following line to the end of the Jupyter Notebook configuration file (for Linux or macOS, usually in the path `~/.jupyter/jupyter_notebook_config.py`):\n",
        "\n",
        "```\n",
        "c.NotebookApp.contents_manager_class = 'notedown.NotedownContentsManager'\n",
        "```\n",
        "\n",
        "After that, you only need to run the `jupyter notebook` command to turn on the notedown plugin by default.\n",
        "\n",
        "### Running Jupyter Notebooks on a Remote Server\n",
        "\n",
        "Sometimes, you may want to run Jupyter notebooks on a remote server and access it through a browser on your local computer. If Linux or macOS is installed on your local machine (Windows can also support this function through third-party software such as PuTTY), you can use port forwarding:\n",
        "\n",
        "```\n",
        "ssh myserver -L 8888:localhost:8888\n",
        "```\n",
        "\n",
        "The above string `myserver` is the address of the remote server.\n",
        "Then we can use http://localhost:8888 to access the remote server `myserver` that runs Jupyter notebooks. We will detail on how to run Jupyter notebooks on AWS instances\n",
        "later in this appendix.\n",
        "\n",
        "### Timing\n",
        "\n",
        "We can use the `ExecuteTime` plugin to time the execution of each code cell in Jupyter notebooks.\n",
        "Use the following commands to install the plugin:\n",
        "\n",
        "```\n",
        "pip install jupyter_contrib_nbextensions\n",
        "jupyter contrib nbextension install --user\n",
        "jupyter nbextension enable execute_time/ExecuteTime\n",
        "```\n",
        "\n",
        "## Summary\n",
        "\n",
        "* Using the Jupyter Notebook tool, we can edit, run, and contribute to each section of the book.\n",
        "* We can run Jupyter notebooks on remote servers using port forwarding.\n",
        "\n",
        "\n",
        "## Exercises\n",
        "\n",
        "1. Edit and run the code in this book with the Jupyter Notebook on your local machine.\n",
        "1. Edit and run the code in this book with the Jupyter Notebook *remotely* via port forwarding.\n",
        "1. Compare the running time of the operations $\\mathbf{A}^\\top \\mathbf{B}$ and $\\mathbf{A} \\mathbf{B}$ for two square matrices in $\\mathbb{R}^{1024 \\times 1024}$. Which one is faster?\n",
        "\n",
        "\n",
        "[Discussions](https://discuss.d2l.ai/t/421)\n"
      ]
    },
    {
      "cell_type": "code",
      "metadata": {
        "colab": {
          "base_uri": "https://localhost:8080/"
        },
        "id": "db6858c9",
        "outputId": "281fd20f-3434-4718-8f38-9461b0a42db9"
      },
      "source": [
        "!pip install chromadb"
      ],
      "id": "db6858c9",
      "execution_count": 81,
      "outputs": [
        {
          "output_type": "stream",
          "name": "stdout",
          "text": [
            "Requirement already satisfied: chromadb in /usr/local/lib/python3.12/dist-packages (1.2.2)\n",
            "Requirement already satisfied: build>=1.0.3 in /usr/local/lib/python3.12/dist-packages (from chromadb) (1.3.0)\n",
            "Requirement already satisfied: pydantic>=1.9 in /usr/local/lib/python3.12/dist-packages (from chromadb) (2.11.10)\n",
            "Requirement already satisfied: pybase64>=1.4.1 in /usr/local/lib/python3.12/dist-packages (from chromadb) (1.4.2)\n",
            "Requirement already satisfied: uvicorn>=0.18.3 in /usr/local/lib/python3.12/dist-packages (from uvicorn[standard]>=0.18.3->chromadb) (0.38.0)\n",
            "Requirement already satisfied: numpy>=1.22.5 in /usr/local/lib/python3.12/dist-packages (from chromadb) (2.0.2)\n",
            "Requirement already satisfied: posthog<6.0.0,>=2.4.0 in /usr/local/lib/python3.12/dist-packages (from chromadb) (5.4.0)\n",
            "Requirement already satisfied: typing-extensions>=4.5.0 in /usr/local/lib/python3.12/dist-packages (from chromadb) (4.15.0)\n",
            "Requirement already satisfied: onnxruntime>=1.14.1 in /usr/local/lib/python3.12/dist-packages (from chromadb) (1.23.2)\n",
            "Requirement already satisfied: opentelemetry-api>=1.2.0 in /usr/local/lib/python3.12/dist-packages (from chromadb) (1.38.0)\n",
            "Requirement already satisfied: opentelemetry-exporter-otlp-proto-grpc>=1.2.0 in /usr/local/lib/python3.12/dist-packages (from chromadb) (1.38.0)\n",
            "Requirement already satisfied: opentelemetry-sdk>=1.2.0 in /usr/local/lib/python3.12/dist-packages (from chromadb) (1.38.0)\n",
            "Requirement already satisfied: tokenizers>=0.13.2 in /usr/local/lib/python3.12/dist-packages (from chromadb) (0.22.1)\n",
            "Requirement already satisfied: pypika>=0.48.9 in /usr/local/lib/python3.12/dist-packages (from chromadb) (0.48.9)\n",
            "Requirement already satisfied: tqdm>=4.65.0 in /usr/local/lib/python3.12/dist-packages (from chromadb) (4.67.1)\n",
            "Requirement already satisfied: overrides>=7.3.1 in /usr/local/lib/python3.12/dist-packages (from chromadb) (7.7.0)\n",
            "Requirement already satisfied: importlib-resources in /usr/local/lib/python3.12/dist-packages (from chromadb) (6.5.2)\n",
            "Requirement already satisfied: grpcio>=1.58.0 in /usr/local/lib/python3.12/dist-packages (from chromadb) (1.75.1)\n",
            "Requirement already satisfied: bcrypt>=4.0.1 in /usr/local/lib/python3.12/dist-packages (from chromadb) (5.0.0)\n",
            "Requirement already satisfied: typer>=0.9.0 in /usr/local/lib/python3.12/dist-packages (from chromadb) (0.20.0)\n",
            "Requirement already satisfied: kubernetes>=28.1.0 in /usr/local/lib/python3.12/dist-packages (from chromadb) (34.1.0)\n",
            "Requirement already satisfied: tenacity>=8.2.3 in /usr/local/lib/python3.12/dist-packages (from chromadb) (8.5.0)\n",
            "Requirement already satisfied: pyyaml>=6.0.0 in /usr/local/lib/python3.12/dist-packages (from chromadb) (6.0.3)\n",
            "Requirement already satisfied: mmh3>=4.0.1 in /usr/local/lib/python3.12/dist-packages (from chromadb) (5.2.0)\n",
            "Requirement already satisfied: orjson>=3.9.12 in /usr/local/lib/python3.12/dist-packages (from chromadb) (3.11.3)\n",
            "Requirement already satisfied: httpx>=0.27.0 in /usr/local/lib/python3.12/dist-packages (from chromadb) (0.28.1)\n",
            "Requirement already satisfied: rich>=10.11.0 in /usr/local/lib/python3.12/dist-packages (from chromadb) (13.9.4)\n",
            "Requirement already satisfied: jsonschema>=4.19.0 in /usr/local/lib/python3.12/dist-packages (from chromadb) (4.25.1)\n",
            "Requirement already satisfied: packaging>=19.1 in /usr/local/lib/python3.12/dist-packages (from build>=1.0.3->chromadb) (25.0)\n",
            "Requirement already satisfied: pyproject_hooks in /usr/local/lib/python3.12/dist-packages (from build>=1.0.3->chromadb) (1.2.0)\n",
            "Requirement already satisfied: anyio in /usr/local/lib/python3.12/dist-packages (from httpx>=0.27.0->chromadb) (4.11.0)\n",
            "Requirement already satisfied: certifi in /usr/local/lib/python3.12/dist-packages (from httpx>=0.27.0->chromadb) (2025.10.5)\n",
            "Requirement already satisfied: httpcore==1.* in /usr/local/lib/python3.12/dist-packages (from httpx>=0.27.0->chromadb) (1.0.9)\n",
            "Requirement already satisfied: idna in /usr/local/lib/python3.12/dist-packages (from httpx>=0.27.0->chromadb) (3.11)\n",
            "Requirement already satisfied: h11>=0.16 in /usr/local/lib/python3.12/dist-packages (from httpcore==1.*->httpx>=0.27.0->chromadb) (0.16.0)\n",
            "Requirement already satisfied: attrs>=22.2.0 in /usr/local/lib/python3.12/dist-packages (from jsonschema>=4.19.0->chromadb) (25.4.0)\n",
            "Requirement already satisfied: jsonschema-specifications>=2023.03.6 in /usr/local/lib/python3.12/dist-packages (from jsonschema>=4.19.0->chromadb) (2025.9.1)\n",
            "Requirement already satisfied: referencing>=0.28.4 in /usr/local/lib/python3.12/dist-packages (from jsonschema>=4.19.0->chromadb) (0.37.0)\n",
            "Requirement already satisfied: rpds-py>=0.7.1 in /usr/local/lib/python3.12/dist-packages (from jsonschema>=4.19.0->chromadb) (0.27.1)\n",
            "Requirement already satisfied: six>=1.9.0 in /usr/local/lib/python3.12/dist-packages (from kubernetes>=28.1.0->chromadb) (1.17.0)\n",
            "Requirement already satisfied: python-dateutil>=2.5.3 in /usr/local/lib/python3.12/dist-packages (from kubernetes>=28.1.0->chromadb) (2.9.0.post0)\n",
            "Requirement already satisfied: google-auth>=1.0.1 in /usr/local/lib/python3.12/dist-packages (from kubernetes>=28.1.0->chromadb) (2.38.0)\n",
            "Requirement already satisfied: websocket-client!=0.40.0,!=0.41.*,!=0.42.*,>=0.32.0 in /usr/local/lib/python3.12/dist-packages (from kubernetes>=28.1.0->chromadb) (1.9.0)\n",
            "Requirement already satisfied: requests in /usr/local/lib/python3.12/dist-packages (from kubernetes>=28.1.0->chromadb) (2.32.4)\n",
            "Requirement already satisfied: requests-oauthlib in /usr/local/lib/python3.12/dist-packages (from kubernetes>=28.1.0->chromadb) (2.0.0)\n",
            "Requirement already satisfied: urllib3<2.4.0,>=1.24.2 in /usr/local/lib/python3.12/dist-packages (from kubernetes>=28.1.0->chromadb) (2.3.0)\n",
            "Requirement already satisfied: durationpy>=0.7 in /usr/local/lib/python3.12/dist-packages (from kubernetes>=28.1.0->chromadb) (0.10)\n",
            "Requirement already satisfied: coloredlogs in /usr/local/lib/python3.12/dist-packages (from onnxruntime>=1.14.1->chromadb) (15.0.1)\n",
            "Requirement already satisfied: flatbuffers in /usr/local/lib/python3.12/dist-packages (from onnxruntime>=1.14.1->chromadb) (25.9.23)\n",
            "Requirement already satisfied: protobuf in /usr/local/lib/python3.12/dist-packages (from onnxruntime>=1.14.1->chromadb) (5.29.5)\n",
            "Requirement already satisfied: sympy in /usr/local/lib/python3.12/dist-packages (from onnxruntime>=1.14.1->chromadb) (1.13.3)\n",
            "Requirement already satisfied: importlib-metadata<8.8.0,>=6.0 in /usr/local/lib/python3.12/dist-packages (from opentelemetry-api>=1.2.0->chromadb) (8.7.0)\n",
            "Requirement already satisfied: googleapis-common-protos~=1.57 in /usr/local/lib/python3.12/dist-packages (from opentelemetry-exporter-otlp-proto-grpc>=1.2.0->chromadb) (1.71.0)\n",
            "Requirement already satisfied: opentelemetry-exporter-otlp-proto-common==1.38.0 in /usr/local/lib/python3.12/dist-packages (from opentelemetry-exporter-otlp-proto-grpc>=1.2.0->chromadb) (1.38.0)\n",
            "Requirement already satisfied: opentelemetry-proto==1.38.0 in /usr/local/lib/python3.12/dist-packages (from opentelemetry-exporter-otlp-proto-grpc>=1.2.0->chromadb) (1.38.0)\n",
            "Requirement already satisfied: opentelemetry-semantic-conventions==0.59b0 in /usr/local/lib/python3.12/dist-packages (from opentelemetry-sdk>=1.2.0->chromadb) (0.59b0)\n",
            "Requirement already satisfied: backoff>=1.10.0 in /usr/local/lib/python3.12/dist-packages (from posthog<6.0.0,>=2.4.0->chromadb) (2.2.1)\n",
            "Requirement already satisfied: distro>=1.5.0 in /usr/local/lib/python3.12/dist-packages (from posthog<6.0.0,>=2.4.0->chromadb) (1.9.0)\n",
            "Requirement already satisfied: annotated-types>=0.6.0 in /usr/local/lib/python3.12/dist-packages (from pydantic>=1.9->chromadb) (0.7.0)\n",
            "Requirement already satisfied: pydantic-core==2.33.2 in /usr/local/lib/python3.12/dist-packages (from pydantic>=1.9->chromadb) (2.33.2)\n",
            "Requirement already satisfied: typing-inspection>=0.4.0 in /usr/local/lib/python3.12/dist-packages (from pydantic>=1.9->chromadb) (0.4.2)\n",
            "Requirement already satisfied: markdown-it-py>=2.2.0 in /usr/local/lib/python3.12/dist-packages (from rich>=10.11.0->chromadb) (4.0.0)\n",
            "Requirement already satisfied: pygments<3.0.0,>=2.13.0 in /usr/local/lib/python3.12/dist-packages (from rich>=10.11.0->chromadb) (2.19.2)\n",
            "Requirement already satisfied: huggingface-hub<2.0,>=0.16.4 in /usr/local/lib/python3.12/dist-packages (from tokenizers>=0.13.2->chromadb) (0.35.3)\n",
            "Requirement already satisfied: click>=8.0.0 in /usr/local/lib/python3.12/dist-packages (from typer>=0.9.0->chromadb) (8.3.0)\n",
            "Requirement already satisfied: shellingham>=1.3.0 in /usr/local/lib/python3.12/dist-packages (from typer>=0.9.0->chromadb) (1.5.4)\n",
            "Requirement already satisfied: httptools>=0.6.3 in /usr/local/lib/python3.12/dist-packages (from uvicorn[standard]>=0.18.3->chromadb) (0.7.1)\n",
            "Requirement already satisfied: python-dotenv>=0.13 in /usr/local/lib/python3.12/dist-packages (from uvicorn[standard]>=0.18.3->chromadb) (1.1.1)\n",
            "Requirement already satisfied: uvloop>=0.15.1 in /usr/local/lib/python3.12/dist-packages (from uvicorn[standard]>=0.18.3->chromadb) (0.22.1)\n",
            "Requirement already satisfied: watchfiles>=0.13 in /usr/local/lib/python3.12/dist-packages (from uvicorn[standard]>=0.18.3->chromadb) (1.1.1)\n",
            "Requirement already satisfied: websockets>=10.4 in /usr/local/lib/python3.12/dist-packages (from uvicorn[standard]>=0.18.3->chromadb) (15.0.1)\n",
            "Requirement already satisfied: cachetools<6.0,>=2.0.0 in /usr/local/lib/python3.12/dist-packages (from google-auth>=1.0.1->kubernetes>=28.1.0->chromadb) (5.5.2)\n",
            "Requirement already satisfied: pyasn1-modules>=0.2.1 in /usr/local/lib/python3.12/dist-packages (from google-auth>=1.0.1->kubernetes>=28.1.0->chromadb) (0.4.2)\n",
            "Requirement already satisfied: rsa<5,>=3.1.4 in /usr/local/lib/python3.12/dist-packages (from google-auth>=1.0.1->kubernetes>=28.1.0->chromadb) (4.9.1)\n",
            "Requirement already satisfied: filelock in /usr/local/lib/python3.12/dist-packages (from huggingface-hub<2.0,>=0.16.4->tokenizers>=0.13.2->chromadb) (3.20.0)\n",
            "Requirement already satisfied: fsspec>=2023.5.0 in /usr/local/lib/python3.12/dist-packages (from huggingface-hub<2.0,>=0.16.4->tokenizers>=0.13.2->chromadb) (2025.3.0)\n",
            "Requirement already satisfied: hf-xet<2.0.0,>=1.1.3 in /usr/local/lib/python3.12/dist-packages (from huggingface-hub<2.0,>=0.16.4->tokenizers>=0.13.2->chromadb) (1.1.10)\n",
            "Requirement already satisfied: zipp>=3.20 in /usr/local/lib/python3.12/dist-packages (from importlib-metadata<8.8.0,>=6.0->opentelemetry-api>=1.2.0->chromadb) (3.23.0)\n",
            "Requirement already satisfied: mdurl~=0.1 in /usr/local/lib/python3.12/dist-packages (from markdown-it-py>=2.2.0->rich>=10.11.0->chromadb) (0.1.2)\n",
            "Requirement already satisfied: charset_normalizer<4,>=2 in /usr/local/lib/python3.12/dist-packages (from requests->kubernetes>=28.1.0->chromadb) (3.4.4)\n",
            "Requirement already satisfied: sniffio>=1.1 in /usr/local/lib/python3.12/dist-packages (from anyio->httpx>=0.27.0->chromadb) (1.3.1)\n",
            "Requirement already satisfied: humanfriendly>=9.1 in /usr/local/lib/python3.12/dist-packages (from coloredlogs->onnxruntime>=1.14.1->chromadb) (10.0)\n",
            "Requirement already satisfied: oauthlib>=3.0.0 in /usr/local/lib/python3.12/dist-packages (from requests-oauthlib->kubernetes>=28.1.0->chromadb) (3.3.1)\n",
            "Requirement already satisfied: mpmath<1.4,>=1.1.0 in /usr/local/lib/python3.12/dist-packages (from sympy->onnxruntime>=1.14.1->chromadb) (1.3.0)\n",
            "Requirement already satisfied: pyasn1<0.7.0,>=0.6.1 in /usr/local/lib/python3.12/dist-packages (from pyasn1-modules>=0.2.1->google-auth>=1.0.1->kubernetes>=28.1.0->chromadb) (0.6.1)\n"
          ]
        }
      ]
    },
    {
      "cell_type": "code",
      "metadata": {
        "id": "bfa78705"
      },
      "source": [
        "import chromadb\n",
        "import os\n",
        "from google.colab import userdata\n",
        "\n",
        "# Replace with your ChromaDB Cloud details\n",
        "# You can store sensitive information like API keys in Colab Secrets.\n",
        "# To do this, click on the \"🔑\" icon in the left sidebar, add a new secret,\n",
        "# name it 'CHROMA_DB_CLOUD_API_KEY' and paste your API key as the value.\n",
        "# Then you can access it using:\n",
        "# from google.colab import userdata\n",
        "# CHROMA_DB_CLOUD_API_KEY = userdata.get('CHROMA_DB_CLOUD_API_KEY')\n",
        "\n",
        "# Assuming the user will provide the API key, tenant, and database directly in the code for now.\n",
        "# In a real scenario, using Colab secrets for the API key is recommended.\n",
        "CHROMA_DB_CLOUD_API_KEY = userdata.get('CHROMA_DB_CLOUD_API_KEY')\n",
        "CHROMA_DB_CLOUD_TENANT = userdata.get('CHROMA_DB_CLOUD_TENANT') # Removed the extra single quote if it was present\n",
        "CHROMA_DB_CLOUD_DATABASE = userdata.get('CHROMA_DB_CLOUD_DATABASE')\n",
        "\n",
        "\n",
        "client = chromadb.CloudClient(\n",
        "  api_key=CHROMA_DB_CLOUD_API_KEY,\n",
        "  tenant=CHROMA_DB_CLOUD_TENANT,\n",
        "  database=CHROMA_DB_CLOUD_DATABASE\n",
        ")\n",
        "\n",
        "# You can uncomment the line below to check if the connection is successful\n",
        "# print(client.heartbeat())"
      ],
      "id": "bfa78705",
      "execution_count": 82,
      "outputs": []
    },
    {
      "cell_type": "code",
      "metadata": {
        "colab": {
          "base_uri": "https://localhost:8080/",
          "height": 107
        },
        "id": "d45f0017",
        "outputId": "dfd8b0a0-9990-4b59-b77c-6ac5ed3b37e4"
      },
      "source": [
        "from google.colab import userdata\n",
        "from IPython.display import display\n",
        "\n",
        "try:\n",
        "    tenant_secret_value = userdata.get('CHROMA_DB_CLOUD_TENANT')\n",
        "    print(\"Value of CHROMA_DB_CLOUD_TENANT secret:\")\n",
        "    display(tenant_secret_value)\n",
        "    print(\"\\nPlease carefully inspect the output above for any leading/trailing spaces or other unexpected characters.\")\n",
        "except userdata.SecretNotFoundError:\n",
        "    print(\"CHROMA_DB_CLOUD_TENANT secret not found. Please make sure you have added it to Colab Secrets.\")\n",
        "except Exception as e:\n",
        "    print(f\"An error occurred while retrieving the secret: {e}\")"
      ],
      "id": "d45f0017",
      "execution_count": 83,
      "outputs": [
        {
          "output_type": "stream",
          "name": "stdout",
          "text": [
            "Value of CHROMA_DB_CLOUD_TENANT secret:\n"
          ]
        },
        {
          "output_type": "display_data",
          "data": {
            "text/plain": [
              "'67b449aa-455f-4bf3-8623-d84aa13916fd'"
            ],
            "application/vnd.google.colaboratory.intrinsic+json": {
              "type": "string"
            }
          },
          "metadata": {}
        },
        {
          "output_type": "stream",
          "name": "stdout",
          "text": [
            "\n",
            "Please carefully inspect the output above for any leading/trailing spaces or other unexpected characters.\n"
          ]
        }
      ]
    },
    {
      "cell_type": "code",
      "metadata": {
        "colab": {
          "base_uri": "https://localhost:8080/"
        },
        "id": "307c7b24",
        "outputId": "624e830b-1ca1-46a4-bc57-e09827e80efc"
      },
      "source": [
        "# Assuming 'collection' is the ChromaDB collection object\n",
        "query_results_risks = collection.query(\n",
        "    query_texts=[\"potential risks\"],\n",
        "    n_results=3  # Adjust as needed\n",
        ")\n",
        "\n",
        "print(\"Query Results for 'potential risks':\")\n",
        "print(query_results_risks)"
      ],
      "id": "307c7b24",
      "execution_count": 84,
      "outputs": [
        {
          "output_type": "stream",
          "name": "stdout",
          "text": [
            "Query Results for 'potential risks':\n",
            "{'ids': [['demoblaze_brd_document']], 'distances': [[1.8914368]], 'embeddings': None, 'metadatas': [[None]], 'documents': [['Sure! Below is your Business Requirements Document (BRD) for the Demoblaze Online Store Enhancement / Redesign project, but with sample data filled in where there were originally blank placeholders such as date, name, etc.\\n\\nBusiness Requirements Document (BRD)\\nProject: Demoblaze Online Store Enhancement / Redesign\\nVersion: 1.0\\nDate: September 16, 2025\\nAuthor: Priya Sharma\\nStakeholders: Product Owner, Marketing, Development Team, UX/UI Team, Customer Support\\n\\n1. Executive Summary\\nDemoblaze is an online demo/product store featuring electronic items such as phones, laptops, monitors; it includes browsing, signup/login, product listings, cart, contact us, and about us pages. The goal is to clearly capture business requirements for enhancements/new features, improve user experience, ensure performance, scalability, and support business growth.\\n\\n2. Business Objectives\\nIncrease conversion rate (visitors → customers) by improving site usability.\\nImprove user retention by providing better account management and after-sales support.\\nEnhance product discovery (search, categories, filtering).\\nEnsure site is mobile-friendly / responsive.\\nReduce cart abandonment.\\nImprove performance (site speed, page load).\\nEnhance credibility & trust (reviews, detailed product info, security).\\nProvide scalable and maintainable architecture.\\n\\n3. Scope\\n3.1 In-Scope\\n3.2 Out of Scope\\nOffline payments (e.g., cash on delivery), unless specified.\\nNon-electronic / other product lines unless agreed.\\nFull localization / multi-language support (unless stakeholders request).\\nHighly customized features beyond basic ecommerce (e.g., auctions, live chat) unless scope expanded.\\n\\n4. Stakeholder Requirements\\n\\n5. Functional Requirements\\n\\n6. Non-Functional Requirements\\n\\n7. Assumptions\\nUsers have internet access and modern browsers.\\nPayment gateway integration will use existing providers (e.g., Stripe).\\nProduct data (images, descriptions) will be supplied by the product team.\\nShipping logic is external or simple.\\nNo legacy system integration unless specified.\\n\\n8. Constraints\\nBudget/time constraints may limit features in first release.\\nThird-party services (payment, hosting, email) dependency.\\nMust comply with data privacy laws (e.g., GDPR).\\nLimited internal resources (design, dev, QA availability).\\n\\n9. User Flow / Use Cases\\n9.1 Use Case: Browse and Buy Product\\nUser lands on homepage.\\nViews featured items, categories.\\nClicks category (e.g., Phones).\\nApplies filters, searches.\\nClicks a product → sees detail page.\\nAdds item to cart.\\nProceeds to checkout.\\nEnters shipping/billing/payment info.\\nConfirms order.\\nReceives confirmation email.\\n9.2 Use Case: Register / Login\\nUser clicks “Sign up”, enters credentials.\\nEmail confirmation (optional).\\nLogs in.\\nAccesses account page: orders, profile, password change.\\n9.3 Use Case: Contact Support\\nUser visits “Contact Us”.\\nFills in name, email, message.\\nSubmits form.\\nSupport team receives and responds.\\n\\n10. Data Requirements\\nProduct data: ID, name, description, specs, price, stock, images, reviews.\\nUser data: ID, username, email, hashed password, profile info.\\nOrder data: Order ID, user ID, product list, billing/shipping info, total, status.\\nCart data: Session/user ID, product IDs, quantity, timestamp.\\nReview data: User ID, product ID, rating, comment, date.\\nAudit/log data: Login/logout, order events, errors.\\n\\n11. Reporting & Analytics\\nTraffic: Sessions, bounce rate, page views.\\nConversion: Add-to-cart rate, abandonment, checkout conversion.\\nSales: Revenue, AOV, top products.\\nCustomer: New vs. returning users.\\nOperations: Order statuses, stock levels, low inventory alerts.\\n\\n12. Success Metrics / KPIs\\n\\n13. Timeline & Milestones\\n\\n14. Risks & Mitigation\\n']], 'uris': None, 'data': None, 'included': ['metadatas', 'documents', 'distances']}\n"
          ]
        }
      ]
    },
    {
      "cell_type": "code",
      "metadata": {
        "colab": {
          "base_uri": "https://localhost:8080/"
        },
        "id": "c2ce15b7",
        "outputId": "2b68e2b6-2327-465d-cadf-4906d4646cdc"
      },
      "source": [
        "!pip install python-docx"
      ],
      "id": "c2ce15b7",
      "execution_count": 85,
      "outputs": [
        {
          "output_type": "stream",
          "name": "stdout",
          "text": [
            "Requirement already satisfied: python-docx in /usr/local/lib/python3.12/dist-packages (1.2.0)\n",
            "Requirement already satisfied: lxml>=3.1.0 in /usr/local/lib/python3.12/dist-packages (from python-docx) (5.4.0)\n",
            "Requirement already satisfied: typing_extensions>=4.9.0 in /usr/local/lib/python3.12/dist-packages (from python-docx) (4.15.0)\n"
          ]
        }
      ]
    },
    {
      "cell_type": "code",
      "metadata": {
        "id": "9e2870be"
      },
      "source": [
        "import docx\n",
        "\n",
        "def read_docx(file_path):\n",
        "    \"\"\"Reads text from a .docx file.\"\"\"\n",
        "    doc = docx.Document(file_path)\n",
        "    text = []\n",
        "    for paragraph in doc.paragraphs:\n",
        "        text.append(paragraph.text)\n",
        "    return \"\\n\".join(text)\n",
        "\n",
        "# Replace with the actual path to your document\n",
        "document_path = '/content/sample_data/content/DemoBlaze BRD.docx'\n",
        "document_content = read_docx(document_path)\n",
        "\n",
        "# You can print the first 500 characters to verify\n",
        "# print(document_content[:500])"
      ],
      "id": "9e2870be",
      "execution_count": 86,
      "outputs": []
    },
    {
      "cell_type": "code",
      "metadata": {
        "colab": {
          "base_uri": "https://localhost:8080/"
        },
        "id": "b74d0d9e",
        "outputId": "67f80ee8-2b8c-4fd6-8230-b4aaadcacbe7"
      },
      "source": [
        "collection_name = \"demoblaze_brd\"  # You can choose a descriptive name\n",
        "\n",
        "try:\n",
        "    # Try to get the collection if it already exists\n",
        "    collection = client.get_collection(name=collection_name)\n",
        "    print(f\"Collection '{collection_name}' already exists.\")\n",
        "except:\n",
        "    # If the collection doesn't exist, create it\n",
        "    collection = client.create_collection(name=collection_name)\n",
        "    print(f\"Collection '{collection_name}' created.\")"
      ],
      "id": "b74d0d9e",
      "execution_count": 87,
      "outputs": [
        {
          "output_type": "stream",
          "name": "stdout",
          "text": [
            "Collection 'demoblaze_brd' already exists.\n"
          ]
        }
      ]
    },
    {
      "cell_type": "code",
      "metadata": {
        "colab": {
          "base_uri": "https://localhost:8080/"
        },
        "id": "cebb111e",
        "outputId": "9d394d57-1a6d-4a8c-96fb-a11ddaaccd28"
      },
      "source": [
        "# Assuming 'document_content' contains the text read from the docx file\n",
        "# and 'collection' is the ChromaDB collection object\n",
        "\n",
        "# ChromaDB requires a list of documents and a list of unique IDs for each document.\n",
        "# Since we have a single document, we'll create lists with one element.\n",
        "documents = [document_content]\n",
        "ids = [\"demoblaze_brd_document\"] # You can use a more descriptive or unique ID\n",
        "\n",
        "collection.add(\n",
        "    documents=documents,\n",
        "    ids=ids\n",
        ")\n",
        "\n",
        "print(f\"Document inserted into collection '{collection_name}'.\")"
      ],
      "id": "cebb111e",
      "execution_count": 88,
      "outputs": [
        {
          "output_type": "stream",
          "name": "stdout",
          "text": [
            "Document inserted into collection 'demoblaze_brd'.\n"
          ]
        }
      ]
    },
    {
      "cell_type": "code",
      "metadata": {
        "colab": {
          "base_uri": "https://localhost:8080/"
        },
        "id": "6ce881d3",
        "outputId": "98770d1e-5017-4394-e67f-b08d27d858bb"
      },
      "source": [
        "# Assuming 'collection' is the ChromaDB collection object\n",
        "\n",
        "# To verify insertion, we can retrieve the document by its ID\n",
        "retrieved_document = collection.get(ids=[\"demoblaze_brd_document\"])\n",
        "\n",
        "# Print the retrieved document to verify\n",
        "print(\"Retrieved Document:\")\n",
        "print(retrieved_document)\n",
        "\n",
        "# You can also count the number of items in the collection to verify\n",
        "count = collection.count()\n",
        "print(f\"\\nNumber of items in the collection: {count}\")\n",
        "\n",
        "# You can also query the collection with a sample query to see relevant results\n",
        "# query_results = collection.query(\n",
        "#     query_texts=[\"What is the purpose of this document?\"],\n",
        "#     n_results=1\n",
        "# )\n",
        "# print(\"\\nQuery Results:\")\n",
        "# print(query_results)"
      ],
      "id": "6ce881d3",
      "execution_count": 89,
      "outputs": [
        {
          "output_type": "stream",
          "name": "stdout",
          "text": [
            "Retrieved Document:\n",
            "{'ids': ['demoblaze_brd_document'], 'embeddings': None, 'metadatas': [None], 'documents': ['Sure! Below is your Business Requirements Document (BRD) for the Demoblaze Online Store Enhancement / Redesign project, but with sample data filled in where there were originally blank placeholders such as date, name, etc.\\n\\nBusiness Requirements Document (BRD)\\nProject: Demoblaze Online Store Enhancement / Redesign\\nVersion: 1.0\\nDate: September 16, 2025\\nAuthor: Priya Sharma\\nStakeholders: Product Owner, Marketing, Development Team, UX/UI Team, Customer Support\\n\\n1. Executive Summary\\nDemoblaze is an online demo/product store featuring electronic items such as phones, laptops, monitors; it includes browsing, signup/login, product listings, cart, contact us, and about us pages. The goal is to clearly capture business requirements for enhancements/new features, improve user experience, ensure performance, scalability, and support business growth.\\n\\n2. Business Objectives\\nIncrease conversion rate (visitors → customers) by improving site usability.\\nImprove user retention by providing better account management and after-sales support.\\nEnhance product discovery (search, categories, filtering).\\nEnsure site is mobile-friendly / responsive.\\nReduce cart abandonment.\\nImprove performance (site speed, page load).\\nEnhance credibility & trust (reviews, detailed product info, security).\\nProvide scalable and maintainable architecture.\\n\\n3. Scope\\n3.1 In-Scope\\n3.2 Out of Scope\\nOffline payments (e.g., cash on delivery), unless specified.\\nNon-electronic / other product lines unless agreed.\\nFull localization / multi-language support (unless stakeholders request).\\nHighly customized features beyond basic ecommerce (e.g., auctions, live chat) unless scope expanded.\\n\\n4. Stakeholder Requirements\\n\\n5. Functional Requirements\\n\\n6. Non-Functional Requirements\\n\\n7. Assumptions\\nUsers have internet access and modern browsers.\\nPayment gateway integration will use existing providers (e.g., Stripe).\\nProduct data (images, descriptions) will be supplied by the product team.\\nShipping logic is external or simple.\\nNo legacy system integration unless specified.\\n\\n8. Constraints\\nBudget/time constraints may limit features in first release.\\nThird-party services (payment, hosting, email) dependency.\\nMust comply with data privacy laws (e.g., GDPR).\\nLimited internal resources (design, dev, QA availability).\\n\\n9. User Flow / Use Cases\\n9.1 Use Case: Browse and Buy Product\\nUser lands on homepage.\\nViews featured items, categories.\\nClicks category (e.g., Phones).\\nApplies filters, searches.\\nClicks a product → sees detail page.\\nAdds item to cart.\\nProceeds to checkout.\\nEnters shipping/billing/payment info.\\nConfirms order.\\nReceives confirmation email.\\n9.2 Use Case: Register / Login\\nUser clicks “Sign up”, enters credentials.\\nEmail confirmation (optional).\\nLogs in.\\nAccesses account page: orders, profile, password change.\\n9.3 Use Case: Contact Support\\nUser visits “Contact Us”.\\nFills in name, email, message.\\nSubmits form.\\nSupport team receives and responds.\\n\\n10. Data Requirements\\nProduct data: ID, name, description, specs, price, stock, images, reviews.\\nUser data: ID, username, email, hashed password, profile info.\\nOrder data: Order ID, user ID, product list, billing/shipping info, total, status.\\nCart data: Session/user ID, product IDs, quantity, timestamp.\\nReview data: User ID, product ID, rating, comment, date.\\nAudit/log data: Login/logout, order events, errors.\\n\\n11. Reporting & Analytics\\nTraffic: Sessions, bounce rate, page views.\\nConversion: Add-to-cart rate, abandonment, checkout conversion.\\nSales: Revenue, AOV, top products.\\nCustomer: New vs. returning users.\\nOperations: Order statuses, stock levels, low inventory alerts.\\n\\n12. Success Metrics / KPIs\\n\\n13. Timeline & Milestones\\n\\n14. Risks & Mitigation\\n'], 'data': None, 'uris': None, 'included': ['metadatas', 'documents']}\n",
            "\n",
            "Number of items in the collection: 1\n"
          ]
        }
      ]
    },
    {
      "cell_type": "code",
      "metadata": {
        "colab": {
          "base_uri": "https://localhost:8080/"
        },
        "id": "bf6136ac",
        "outputId": "ddae4fd0-0327-4025-899b-f4f87f931769"
      },
      "source": [
        "# Assuming 'collection' is the ChromaDB collection object\n",
        "query_results = collection.query(\n",
        "    query_texts=[\"project objectives\"],\n",
        "    n_results=3  # You can adjust the number of results as needed\n",
        ")\n",
        "\n",
        "print(\"Query Results for 'project objectives':\")\n",
        "print(query_results)"
      ],
      "id": "bf6136ac",
      "execution_count": 90,
      "outputs": [
        {
          "output_type": "stream",
          "name": "stdout",
          "text": [
            "Query Results for 'project objectives':\n",
            "{'ids': [['demoblaze_brd_document']], 'distances': [[1.4586914]], 'embeddings': None, 'metadatas': [[None]], 'documents': [['Sure! Below is your Business Requirements Document (BRD) for the Demoblaze Online Store Enhancement / Redesign project, but with sample data filled in where there were originally blank placeholders such as date, name, etc.\\n\\nBusiness Requirements Document (BRD)\\nProject: Demoblaze Online Store Enhancement / Redesign\\nVersion: 1.0\\nDate: September 16, 2025\\nAuthor: Priya Sharma\\nStakeholders: Product Owner, Marketing, Development Team, UX/UI Team, Customer Support\\n\\n1. Executive Summary\\nDemoblaze is an online demo/product store featuring electronic items such as phones, laptops, monitors; it includes browsing, signup/login, product listings, cart, contact us, and about us pages. The goal is to clearly capture business requirements for enhancements/new features, improve user experience, ensure performance, scalability, and support business growth.\\n\\n2. Business Objectives\\nIncrease conversion rate (visitors → customers) by improving site usability.\\nImprove user retention by providing better account management and after-sales support.\\nEnhance product discovery (search, categories, filtering).\\nEnsure site is mobile-friendly / responsive.\\nReduce cart abandonment.\\nImprove performance (site speed, page load).\\nEnhance credibility & trust (reviews, detailed product info, security).\\nProvide scalable and maintainable architecture.\\n\\n3. Scope\\n3.1 In-Scope\\n3.2 Out of Scope\\nOffline payments (e.g., cash on delivery), unless specified.\\nNon-electronic / other product lines unless agreed.\\nFull localization / multi-language support (unless stakeholders request).\\nHighly customized features beyond basic ecommerce (e.g., auctions, live chat) unless scope expanded.\\n\\n4. Stakeholder Requirements\\n\\n5. Functional Requirements\\n\\n6. Non-Functional Requirements\\n\\n7. Assumptions\\nUsers have internet access and modern browsers.\\nPayment gateway integration will use existing providers (e.g., Stripe).\\nProduct data (images, descriptions) will be supplied by the product team.\\nShipping logic is external or simple.\\nNo legacy system integration unless specified.\\n\\n8. Constraints\\nBudget/time constraints may limit features in first release.\\nThird-party services (payment, hosting, email) dependency.\\nMust comply with data privacy laws (e.g., GDPR).\\nLimited internal resources (design, dev, QA availability).\\n\\n9. User Flow / Use Cases\\n9.1 Use Case: Browse and Buy Product\\nUser lands on homepage.\\nViews featured items, categories.\\nClicks category (e.g., Phones).\\nApplies filters, searches.\\nClicks a product → sees detail page.\\nAdds item to cart.\\nProceeds to checkout.\\nEnters shipping/billing/payment info.\\nConfirms order.\\nReceives confirmation email.\\n9.2 Use Case: Register / Login\\nUser clicks “Sign up”, enters credentials.\\nEmail confirmation (optional).\\nLogs in.\\nAccesses account page: orders, profile, password change.\\n9.3 Use Case: Contact Support\\nUser visits “Contact Us”.\\nFills in name, email, message.\\nSubmits form.\\nSupport team receives and responds.\\n\\n10. Data Requirements\\nProduct data: ID, name, description, specs, price, stock, images, reviews.\\nUser data: ID, username, email, hashed password, profile info.\\nOrder data: Order ID, user ID, product list, billing/shipping info, total, status.\\nCart data: Session/user ID, product IDs, quantity, timestamp.\\nReview data: User ID, product ID, rating, comment, date.\\nAudit/log data: Login/logout, order events, errors.\\n\\n11. Reporting & Analytics\\nTraffic: Sessions, bounce rate, page views.\\nConversion: Add-to-cart rate, abandonment, checkout conversion.\\nSales: Revenue, AOV, top products.\\nCustomer: New vs. returning users.\\nOperations: Order statuses, stock levels, low inventory alerts.\\n\\n12. Success Metrics / KPIs\\n\\n13. Timeline & Milestones\\n\\n14. Risks & Mitigation\\n']], 'uris': None, 'data': None, 'included': ['metadatas', 'documents', 'distances']}\n"
          ]
        }
      ]
    },
    {
      "cell_type": "code",
      "metadata": {
        "colab": {
          "base_uri": "https://localhost:8080/"
        },
        "id": "88c7b126",
        "outputId": "f5d92c6d-8fa2-4cc1-e5c3-566b2e47bec9"
      },
      "source": [
        "# Assuming 'query_results' contains the results from the previous query\n",
        "\n",
        "# Extract the document content from the query results\n",
        "# The structure of query_results is a dictionary, and the document content is in the 'documents' key\n",
        "# 'documents' is a list of lists, where each inner list contains the document text for a given query text\n",
        "if query_results and 'documents' in query_results and query_results['documents']:\n",
        "    # Since we queried with a single text, we expect one inner list of documents\n",
        "    retrieved_documents_content = query_results['documents'][0]\n",
        "\n",
        "    print(\"Key Project Objectives:\")\n",
        "    # In this case, the entire document was returned as the most relevant result.\n",
        "    # We can now manually or programmatically identify the \"Business Objectives\" section.\n",
        "    # A simple approach for this specific document structure is to look for the section header.\n",
        "\n",
        "    objectives_section_start = document_content.find(\"2. Business Objectives\")\n",
        "    if objectives_section_start != -1:\n",
        "        # Find the end of the objectives section (e.g., start of the next section)\n",
        "        scope_section_start = document_content.find(\"3. Scope\", objectives_section_start)\n",
        "        if scope_section_start != -1:\n",
        "            project_objectives = document_content[objectives_section_start:scope_section_start].strip()\n",
        "            print(project_objectives)\n",
        "        else:\n",
        "            # If '3. Scope' is not found, take the rest of the document from the objectives start\n",
        "            project_objectives = document_content[objectives_section_start:].strip()\n",
        "            print(project_objectives)\n",
        "    else:\n",
        "        print(\"Could not find the 'Business Objectives' section in the retrieved document.\")\n",
        "\n",
        "else:\n",
        "    print(\"No documents found in the query results to extract objectives from.\")"
      ],
      "id": "88c7b126",
      "execution_count": 91,
      "outputs": [
        {
          "output_type": "stream",
          "name": "stdout",
          "text": [
            "Key Project Objectives:\n",
            "2. Business Objectives\n",
            "Increase conversion rate (visitors → customers) by improving site usability.\n",
            "Improve user retention by providing better account management and after-sales support.\n",
            "Enhance product discovery (search, categories, filtering).\n",
            "Ensure site is mobile-friendly / responsive.\n",
            "Reduce cart abandonment.\n",
            "Improve performance (site speed, page load).\n",
            "Enhance credibility & trust (reviews, detailed product info, security).\n",
            "Provide scalable and maintainable architecture.\n"
          ]
        }
      ]
    }
  ],
  "metadata": {
    "kernelspec": {
      "display_name": "Python 3",
      "name": "python3"
    },
    "language_info": {
      "name": "python"
    },
    "required_libs": [],
    "colab": {
      "provenance": []
    }
  },
  "nbformat": 4,
  "nbformat_minor": 5
}